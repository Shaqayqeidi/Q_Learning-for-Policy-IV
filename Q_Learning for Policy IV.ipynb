{
 "cells": [
  {
   "cell_type": "markdown",
   "metadata": {},
   "source": [
    "Q_Learning for Policy IV"
   ]
  },
  {
   "cell_type": "code",
   "execution_count": 1,
   "metadata": {},
   "outputs": [],
   "source": [
    "import numpy as np\n",
    "import random\n",
    "from random import sample\n",
    "import math \n",
    "import matplotlib.pyplot as plt\n",
    "import pandas as pd"
   ]
  },
  {
   "cell_type": "code",
   "execution_count": 2,
   "metadata": {},
   "outputs": [],
   "source": [
    "def reset1():\n",
    "    st= [0]*16\n",
    "    return tuple(st)"
   ]
  },
  {
   "cell_type": "code",
   "execution_count": 3,
   "metadata": {},
   "outputs": [],
   "source": [
    "weibull_scale=(2365.08,996.88,713.55,1406.84,343.76,3933.12,828.19,2040.95)\n",
    "weibull_shape=(414.16,109.25,79.81,115.21,169.81,143.60,43.83,296.48)\n",
    "tf=(2,6.5,2.5,6,5,3.5,3,3.5)\n",
    "tp=(0.4,5.42,0.625,0.857,1.25,0.7,0.429,0.875)\n",
    "time_interval=5\n",
    "running_time=100000"
   ]
  },
  {
   "cell_type": "code",
   "execution_count": 4,
   "metadata": {},
   "outputs": [],
   "source": [
    "fi = [[0,2],[2,7],[2,4],[6,5],[3,1]]"
   ]
  },
  {
   "cell_type": "code",
   "execution_count": 5,
   "metadata": {},
   "outputs": [
    {
     "data": {
      "text/plain": [
       "[[0, 2], [2, 7], [2, 4], [6, 5], [3, 1]]"
      ]
     },
     "execution_count": 5,
     "metadata": {},
     "output_type": "execute_result"
    }
   ],
   "source": [
    "fi"
   ]
  },
  {
   "cell_type": "code",
   "execution_count": 6,
   "metadata": {},
   "outputs": [
    {
     "data": {
      "text/plain": [
       "True"
      ]
     },
     "execution_count": 6,
     "metadata": {},
     "output_type": "execute_result"
    }
   ],
   "source": [
    "1 in fi[4]"
   ]
  },
  {
   "cell_type": "code",
   "execution_count": 7,
   "metadata": {},
   "outputs": [
    {
     "data": {
      "text/plain": [
       "3"
      ]
     },
     "execution_count": 7,
     "metadata": {},
     "output_type": "execute_result"
    }
   ],
   "source": [
    "fi[4][0]"
   ]
  },
  {
   "cell_type": "code",
   "execution_count": 8,
   "metadata": {},
   "outputs": [],
   "source": [
    "def member(i , fi):\n",
    "    mem=[]\n",
    "    if i in fi[0]:\n",
    "        if i !=fi[0][0]:\n",
    "            mem.append(fi[0][0])\n",
    "        if i !=fi[0][1]:\n",
    "            mem.append(fi[0][1])\n",
    "        \n",
    "    if i in fi[1]:\n",
    "        if i !=fi[1][0]:\n",
    "            mem.append(fi[1][0])\n",
    "        if i !=fi[1][1]:\n",
    "            mem.append(fi[1][1])\n",
    "        \n",
    "    if i in fi[2]:\n",
    "        if i !=fi[2][0]:\n",
    "            mem.append(fi[2][0])\n",
    "        if i !=fi[2][1]:\n",
    "            mem.append(fi[2][1])\n",
    "    \n",
    "    if i in fi[3]:\n",
    "        if i !=fi[3][0]:\n",
    "            mem.append(fi[3][0])\n",
    "        if i !=fi[3][1]:\n",
    "            mem.append(fi[3][1])\n",
    "    \n",
    "    if i in fi[4]:\n",
    "        if i !=fi[4][0]:\n",
    "            mem.append(fi[4][0])\n",
    "        if i !=fi[4][1]:\n",
    "            mem.append(fi[4][1])\n",
    "    \n",
    "    return mem\n",
    "    "
   ]
  },
  {
   "cell_type": "code",
   "execution_count": 9,
   "metadata": {},
   "outputs": [
    {
     "data": {
      "text/plain": [
       "[3]"
      ]
     },
     "execution_count": 9,
     "metadata": {},
     "output_type": "execute_result"
    }
   ],
   "source": [
    "member(1,fi)"
   ]
  },
  {
   "cell_type": "code",
   "execution_count": 10,
   "metadata": {},
   "outputs": [
    {
     "name": "stdout",
     "output_type": "stream",
     "text": [
      "0.857\n"
     ]
    }
   ],
   "source": [
    "tpi =0\n",
    "for i in range(len(member(1,fi))):\n",
    "    tpi+=tp[member(1,fi)[i]] \n",
    "print(tpi)"
   ]
  },
  {
   "cell_type": "code",
   "execution_count": 11,
   "metadata": {},
   "outputs": [
    {
     "data": {
      "text/plain": [
       "6.277"
      ]
     },
     "execution_count": 11,
     "metadata": {},
     "output_type": "execute_result"
    }
   ],
   "source": [
    "sum((tpi,tp[1]))"
   ]
  },
  {
   "cell_type": "code",
   "execution_count": 12,
   "metadata": {},
   "outputs": [
    {
     "data": {
      "text/plain": [
       "3"
      ]
     },
     "execution_count": 12,
     "metadata": {},
     "output_type": "execute_result"
    }
   ],
   "source": [
    "len(member(2,fi))"
   ]
  },
  {
   "cell_type": "code",
   "execution_count": 13,
   "metadata": {},
   "outputs": [],
   "source": [
    "def step (action ,st , i ):\n",
    "    f = random.weibullvariate(weibull_scale[i],weibull_shape[i])\n",
    "    \n",
    "    if action == 0 :\n",
    "        st[i] +=5 #age \n",
    "        \n",
    "        if f <= st[i]:\n",
    "            st[i+8]=1    \n",
    "        else:\n",
    "            st[i+8]=0 \n",
    "    \n",
    "    if action ==1 :\n",
    "            st[i]=0\n",
    "            st[i+8]=0\n",
    "            \n",
    "            for j in range(len(member(i,fi))):\n",
    "                st[member(i,fi)[j]] = 0 \n",
    "                st[member(i,fi)[j]+8] = 0 \n",
    "            \n",
    "           \n",
    "    return tuple(st)\n",
    "                 "
   ]
  },
  {
   "cell_type": "code",
   "execution_count": 14,
   "metadata": {},
   "outputs": [
    {
     "data": {
      "text/plain": [
       "(0, 5, 0, 5, 8, 41, 2, 8, 0, 42, 0, 25, 14, 35, 12, 24, 0)"
      ]
     },
     "execution_count": 14,
     "metadata": {},
     "output_type": "execute_result"
    }
   ],
   "source": [
    "step(1,list((500,5,2,5,8,41,2,8,85,42,1,25,14,35,12,24,0)),0)"
   ]
  },
  {
   "cell_type": "code",
   "execution_count": 15,
   "metadata": {},
   "outputs": [],
   "source": [
    "def rewardfun (action,st,i):\n",
    "    reward =[]\n",
    "    \n",
    "    if action == 1 :\n",
    "        tpi = 0 \n",
    "        for j in range(len(member(i,fi))):\n",
    "            tpi+=tp[member(i,fi)[j]]\n",
    "        \n",
    "        reward = - (time_interval/(0.8*time_interval*sum((tpi,tp[i]))))*0.8*sum((tpi,tp[i]))\n",
    "    \n",
    "    if (st[i+8]==1 and action == 0):\n",
    "        tpi = 0 \n",
    "        for j in range(len(member(i,fi))):\n",
    "            tpi+=tp[member(i,fi)[j]]\n",
    "            \n",
    "        tfi = 0\n",
    "        for j in range(len(member(i,fi))):\n",
    "            tfi+=tf[member(i,fi)[j]]\n",
    "            \n",
    "        reward = - (time_interval/(0.8*time_interval*sum((tpi,tp[i]))))*time_interval*math.ceil(0.8*sum((tfi,tf[i]))/time_interval)\n",
    "            \n",
    "    if (st[i+8]==0 and action == 0):\n",
    "        \n",
    "        reward = 5 \n",
    "        \n",
    "    return reward\n",
    "    \n",
    "            \n",
    "    "
   ]
  },
  {
   "cell_type": "code",
   "execution_count": 16,
   "metadata": {},
   "outputs": [
    {
     "data": {
      "text/plain": [
       "5"
      ]
     },
     "execution_count": 16,
     "metadata": {},
     "output_type": "execute_result"
    }
   ],
   "source": [
    "rewardfun(0,(500,5,2,5,8,41,2,8,0,42,1,25,14,35,12,24,0),0)"
   ]
  },
  {
   "cell_type": "code",
   "execution_count": 17,
   "metadata": {},
   "outputs": [],
   "source": [
    "def choose_action(epsilon, state,i):\n",
    "    if (state[1]==1): # we had failur in component i\n",
    "        return 1\n",
    "    else:\n",
    "        if (np.random.random() < epsilon):\n",
    "            return random.choice([0,1]) \n",
    "        else:\n",
    "            return np.argmax(Q_table[state])\n",
    "            "
   ]
  },
  {
   "cell_type": "code",
   "execution_count": 18,
   "metadata": {},
   "outputs": [],
   "source": [
    "Q_table = np.zeros((100000 ,2) + (2,))\n",
    "state = (500,5,2,5,8,41,2,8,0,42,10,25,14,35,12,24,0)\n",
    "state1 = [state[2],state[10]]\n"
   ]
  },
  {
   "cell_type": "code",
   "execution_count": 19,
   "metadata": {},
   "outputs": [
    {
     "data": {
      "text/plain": [
       "0"
      ]
     },
     "execution_count": 19,
     "metadata": {},
     "output_type": "execute_result"
    }
   ],
   "source": [
    "choose_action(0.5, state1,2)"
   ]
  },
  {
   "cell_type": "code",
   "execution_count": 20,
   "metadata": {},
   "outputs": [],
   "source": [
    "num_episodes=1000\n",
    "min_lr=0.1 \n",
    "min_epsilon=0.1\n",
    "discount=0.9\n",
    "decay=25"
   ]
  },
  {
   "cell_type": "code",
   "execution_count": 21,
   "metadata": {},
   "outputs": [],
   "source": [
    "def get_learning_rate( t):\n",
    "    \n",
    "    \"\"\"Gets value for learning rate. It declines as we advance in episodes.\"\"\"\n",
    "    # Learning rate also declines as we add more episodes\n",
    "    return max(min_lr, min(1., 1. - math.log10((t + 1) / decay)))\n"
   ]
  },
  {
   "cell_type": "markdown",
   "metadata": {},
   "source": [
    "Tire"
   ]
  },
  {
   "cell_type": "code",
   "execution_count": 22,
   "metadata": {},
   "outputs": [],
   "source": [
    "Q_table = np.zeros((100000 ,2) + (2,))\n",
    "scores = []\n",
    "i=0\n",
    "# Looping for each episode\n",
    "for e in range(1000):\n",
    "    # Initializes the state\n",
    "    current_state = reset1()\n",
    "    rewards = []\n",
    "    learning_rate = get_learning_rate(e)\n",
    "    epsilon = 1/(e +1)\n",
    "                    \n",
    "    # Looping for each step\n",
    "    for j in range(running_time//time_interval):\n",
    "        \n",
    "        current_statey = (current_state[i],current_state[i+8])\n",
    "        # Choose A from S\n",
    "        action = choose_action(epsilon,current_statey , i)\n",
    "        # Take action\n",
    "        obs = step(action , list(current_state),i)\n",
    "        reward = rewardfun(action,current_state,i)\n",
    "        rewards.append(reward)\n",
    "        new_state = obs\n",
    "        \n",
    "        new_statey = (new_state[i],new_state[i+8])\n",
    "        # Update Q(S,A)\n",
    "        Q_table[current_statey][action] += (learning_rate * \n",
    "                                        (reward + discount * np.max(Q_table[new_statey])\n",
    "                                         - Q_table[current_statey][action]))\n",
    "                                         \n",
    "                                         \n",
    "        current_state = new_state \n",
    "    \n",
    "    scores.append(sum(rewards))"
   ]
  },
  {
   "cell_type": "code",
   "execution_count": 23,
   "metadata": {},
   "outputs": [
    {
     "data": {
      "image/png": "[encoded data removed]",
      "text/plain": [
       "<Figure size 432x288 with 1 Axes>"
      ]
     },
     "metadata": {
      "needs_background": "light"
     },
     "output_type": "display_data"
    }
   ],
   "source": [
    "# Plot the policy performance\n",
    "fig = plt.figure()\n",
    "ax = fig.add_subplot(111)\n",
    "x = np.arange(1, len(scores) + 1)\n",
    "y = scores\n",
    "plt.scatter(x, y, marker='x', c=y)\n",
    "fit = np.polyfit(x, y, deg=4)\n",
    "p = np.poly1d(fit) \n",
    "plt.plot(x,p(x),\"r--\") \n",
    "plt.ylabel('Score')\n",
    "plt.xlabel('Episode #')\n",
    "plt.title(' performance ')\n",
    "plt.show()"
   ]
  },
  {
   "cell_type": "code",
   "execution_count": 24,
   "metadata": {},
   "outputs": [
    {
     "data": {
      "text/plain": [
       "705"
      ]
     },
     "execution_count": 24,
     "metadata": {},
     "output_type": "execute_result"
    }
   ],
   "source": [
    "optimal =[]\n",
    "current_state = reset1()\n",
    "i=0\n",
    "\n",
    "for j in range(running_time//time_interval):\n",
    "    # Choose A from S\n",
    "    action = np.argmax(Q_table[(current_state[i],current_state[i+8])])\n",
    "    if action==1:\n",
    "        optimal.append(current_state[i])\n",
    "    # Take action\n",
    "    obs = step(action,list(current_state),i)\n",
    "    reward = rewardfun(action,current_state,i)\n",
    "    current_state = obs\n",
    "np.unique(optimal)[0]"
   ]
  },
  {
   "cell_type": "markdown",
   "metadata": {},
   "source": [
    "transmission"
   ]
  },
  {
   "cell_type": "code",
   "execution_count": 26,
   "metadata": {},
   "outputs": [],
   "source": [
    "Q_table = np.zeros((100000 ,2) + (2,))\n",
    "scores = []\n",
    "i=1\n",
    "# Looping for each episode\n",
    "for e in range(1000):\n",
    "    # Initializes the state\n",
    "    current_state = reset1()\n",
    "    rewards = []\n",
    "    learning_rate = get_learning_rate(e)\n",
    "    epsilon = 1/(e +1)\n",
    "                    \n",
    "    # Looping for each step\n",
    "    for j in range(running_time//time_interval):\n",
    "        \n",
    "        current_statey = (current_state[i],current_state[i+8])\n",
    "        # Choose A from S\n",
    "        action = choose_action(epsilon,current_statey , i)\n",
    "        # Take action\n",
    "        obs = step(action , list(current_state),i)\n",
    "        reward = rewardfun(action,current_state,i)\n",
    "        rewards.append(reward)\n",
    "        new_state = obs\n",
    "        \n",
    "        new_statey = (new_state[i],new_state[i+8])\n",
    "        # Update Q(S,A)\n",
    "        Q_table[current_statey][action] += (learning_rate * \n",
    "                                        (reward + discount * np.max(Q_table[new_statey])\n",
    "                                         - Q_table[current_statey][action]))\n",
    "                                         \n",
    "                                         \n",
    "        current_state = new_state \n",
    "    \n",
    "    scores.append(sum(rewards))"
   ]
  },
  {
   "cell_type": "code",
   "execution_count": 27,
   "metadata": {},
   "outputs": [
    {
     "data": {
      "text/plain": [
       "780"
      ]
     },
     "execution_count": 27,
     "metadata": {},
     "output_type": "execute_result"
    }
   ],
   "source": [
    "optimal =[]\n",
    "current_state = reset1()\n",
    "i=1\n",
    "\n",
    "for j in range(running_time//time_interval):\n",
    "    # Choose A from S\n",
    "    action = np.argmax(Q_table[(current_state[i],current_state[i+8])])\n",
    "    if action==1:\n",
    "        optimal.append(current_state[i])\n",
    "    # Take action\n",
    "    obs = step(action,list(current_state),i)\n",
    "    reward = rewardfun(action,current_state,i)\n",
    "    current_state = obs\n",
    "np.unique(optimal)[0]"
   ]
  },
  {
   "cell_type": "markdown",
   "metadata": {},
   "source": [
    "wheel rim"
   ]
  },
  {
   "cell_type": "code",
   "execution_count": 26,
   "metadata": {},
   "outputs": [],
   "source": [
    "Q_table = np.zeros((100000 ,2) + (2,))\n",
    "scores = []\n",
    "i=2\n",
    "# Looping for each episode\n",
    "for e in range(1000):\n",
    "    # Initializes the state\n",
    "    current_state = reset1()\n",
    "    rewards = []\n",
    "    learning_rate = get_learning_rate(e)\n",
    "    epsilon = 1/(e +1)\n",
    "                    \n",
    "    # Looping for each step\n",
    "    for j in range(running_time//time_interval):\n",
    "        \n",
    "        current_statey = (current_state[i],current_state[i+8])\n",
    "        # Choose A from S\n",
    "        action = choose_action(epsilon,current_statey , i)\n",
    "        # Take action\n",
    "        obs = step(action , list(current_state),i)\n",
    "        reward = rewardfun(action,current_state,i)\n",
    "        rewards.append(reward)\n",
    "        new_state = obs\n",
    "        \n",
    "        new_statey = (new_state[i],new_state[i+8])\n",
    "        # Update Q(S,A)\n",
    "        Q_table[current_statey][action] += (learning_rate * \n",
    "                                        (reward + discount * np.max(Q_table[new_statey])\n",
    "                                         - Q_table[current_statey][action]))\n",
    "                                         \n",
    "                                         \n",
    "        current_state = new_state \n",
    "    \n",
    "    scores.append(sum(rewards))"
   ]
  },
  {
   "cell_type": "code",
   "execution_count": 27,
   "metadata": {},
   "outputs": [
    {
     "data": {
      "text/plain": [
       "680"
      ]
     },
     "execution_count": 27,
     "metadata": {},
     "output_type": "execute_result"
    }
   ],
   "source": [
    "optimal =[]\n",
    "current_state = reset1()\n",
    "i=2\n",
    "\n",
    "for j in range(running_time//time_interval):\n",
    "    # Choose A from S\n",
    "    action = np.argmax(Q_table[(current_state[i],current_state[i+8])])\n",
    "    if action==1:\n",
    "        optimal.append(current_state[i])\n",
    "    # Take action\n",
    "    obs = step(action,list(current_state),i)\n",
    "    reward = rewardfun(action,current_state,i)\n",
    "    current_state = obs\n",
    "np.unique(optimal)[0]"
   ]
  },
  {
   "cell_type": "markdown",
   "metadata": {},
   "source": [
    "coupling"
   ]
  },
  {
   "cell_type": "code",
   "execution_count": 28,
   "metadata": {},
   "outputs": [],
   "source": [
    "Q_table = np.zeros((100000 ,2) + (2,))\n",
    "scores = []\n",
    "i=3\n",
    "# Looping for each episode\n",
    "for e in range(1000):\n",
    "    # Initializes the state\n",
    "    current_state = reset1()\n",
    "    rewards = []\n",
    "    learning_rate = get_learning_rate(e)\n",
    "    epsilon = 1/(e +1)\n",
    "                    \n",
    "    # Looping for each step\n",
    "    for j in range(running_time//time_interval):\n",
    "        \n",
    "        current_statey = (current_state[i],current_state[i+8])\n",
    "        # Choose A from S\n",
    "        action = choose_action(epsilon,current_statey , i)\n",
    "        # Take action\n",
    "        obs = step(action , list(current_state),i)\n",
    "        reward = rewardfun(action,current_state,i)\n",
    "        rewards.append(reward)\n",
    "        new_state = obs\n",
    "        \n",
    "        new_statey = (new_state[i],new_state[i+8])\n",
    "        # Update Q(S,A)\n",
    "        Q_table[current_statey][action] += (learning_rate * \n",
    "                                        (reward + discount * np.max(Q_table[new_statey])\n",
    "                                         - Q_table[current_statey][action]))\n",
    "                                         \n",
    "                                         \n",
    "        current_state = new_state \n",
    "    \n",
    "    scores.append(sum(rewards))"
   ]
  },
  {
   "cell_type": "code",
   "execution_count": 29,
   "metadata": {},
   "outputs": [
    {
     "data": {
      "text/plain": [
       "870"
      ]
     },
     "execution_count": 29,
     "metadata": {},
     "output_type": "execute_result"
    }
   ],
   "source": [
    "optimal =[]\n",
    "current_state = reset1()\n",
    "i=3\n",
    "\n",
    "for j in range(running_time//time_interval):\n",
    "    # Choose A from S\n",
    "    action = np.argmax(Q_table[(current_state[i],current_state[i+8])])\n",
    "    if action==1:\n",
    "        optimal.append(current_state[i])\n",
    "    # Take action\n",
    "    obs = step(action,list(current_state),i)\n",
    "    reward = rewardfun(action,current_state,i)\n",
    "    current_state = obs\n",
    "np.unique(optimal)[0]"
   ]
  },
  {
   "cell_type": "markdown",
   "metadata": {},
   "source": [
    "motor"
   ]
  },
  {
   "cell_type": "code",
   "execution_count": 32,
   "metadata": {},
   "outputs": [],
   "source": [
    "scores = []\n",
    "i=4\n",
    "# Looping for each episode\n",
    "for e in range(1000):\n",
    "    # Initializes the state\n",
    "    current_state = reset1()\n",
    "    rewards = []\n",
    "    learning_rate = get_learning_rate(e)\n",
    "    epsilon = 1/(e +1)\n",
    "                    \n",
    "    # Looping for each step\n",
    "    for j in range(running_time//time_interval):\n",
    "        \n",
    "        current_statey = (current_state[i],current_state[i+8])\n",
    "        # Choose A from S\n",
    "        action = choose_action(epsilon,current_statey , i)\n",
    "        # Take action\n",
    "        obs = step(action , list(current_state),i)\n",
    "        reward = rewardfun(action,current_state,i)\n",
    "        rewards.append(reward)\n",
    "        new_state = obs\n",
    "        \n",
    "        new_statey = (new_state[i],new_state[i+8])\n",
    "        # Update Q(S,A)\n",
    "        Q_table[current_statey][action] += (learning_rate * \n",
    "                                        (reward + discount * np.max(Q_table[new_statey])\n",
    "                                         - Q_table[current_statey][action]))\n",
    "                                         \n",
    "                                         \n",
    "        current_state = new_state \n",
    "    \n",
    "    scores.append(sum(rewards))"
   ]
  },
  {
   "cell_type": "code",
   "execution_count": 33,
   "metadata": {},
   "outputs": [
    {
     "data": {
      "text/plain": [
       "335"
      ]
     },
     "execution_count": 33,
     "metadata": {},
     "output_type": "execute_result"
    }
   ],
   "source": [
    "optimal =[]\n",
    "current_state = reset1()\n",
    "i=4\n",
    "\n",
    "for j in range(running_time//time_interval):\n",
    "    # Choose A from S\n",
    "    action = np.argmax(Q_table[(current_state[i],current_state[i+8])])\n",
    "    if action==1:\n",
    "        optimal.append(current_state[i])\n",
    "    # Take action\n",
    "    obs = step(action,list(current_state),i)\n",
    "    reward = rewardfun(action,current_state,i)\n",
    "    current_state = obs\n",
    "np.unique(optimal)[0]"
   ]
  },
  {
   "cell_type": "markdown",
   "metadata": {},
   "source": [
    "Brake"
   ]
  },
  {
   "cell_type": "code",
   "execution_count": 34,
   "metadata": {},
   "outputs": [],
   "source": [
    "scores = []\n",
    "i=5\n",
    "# Looping for each episode\n",
    "for e in range(1000):\n",
    "    # Initializes the state\n",
    "    current_state = reset1()\n",
    "    rewards = []\n",
    "    learning_rate = get_learning_rate(e)\n",
    "    epsilon = 1/(e +1)\n",
    "                    \n",
    "    # Looping for each step\n",
    "    for j in range(running_time//time_interval):\n",
    "        \n",
    "        current_statey = (current_state[i],current_state[i+8])\n",
    "        # Choose A from S\n",
    "        action = choose_action(epsilon,current_statey , i)\n",
    "        # Take action\n",
    "        obs = step(action , list(current_state),i)\n",
    "        reward = rewardfun(action,current_state,i)\n",
    "        rewards.append(reward)\n",
    "        new_state = obs\n",
    "        \n",
    "        new_statey = (new_state[i],new_state[i+8])\n",
    "        # Update Q(S,A)\n",
    "        Q_table[current_statey][action] += (learning_rate * \n",
    "                                        (reward + discount * np.max(Q_table[new_statey])\n",
    "                                         - Q_table[current_statey][action]))\n",
    "                                         \n",
    "                                         \n",
    "        current_state = new_state \n",
    "    \n",
    "    scores.append(sum(rewards))"
   ]
  },
  {
   "cell_type": "code",
   "execution_count": 35,
   "metadata": {},
   "outputs": [
    {
     "data": {
      "text/plain": [
       "940"
      ]
     },
     "execution_count": 35,
     "metadata": {},
     "output_type": "execute_result"
    }
   ],
   "source": [
    "optimal =[]\n",
    "current_state = reset1()\n",
    "i=5\n",
    "\n",
    "for j in range(running_time//time_interval):\n",
    "    # Choose A from S\n",
    "    action = np.argmax(Q_table[(current_state[i],current_state[i+8])])\n",
    "    if action==1:\n",
    "        optimal.append(current_state[i])\n",
    "    # Take action\n",
    "    obs = step(action,list(current_state),i)\n",
    "    reward = rewardfun(action,current_state,i)\n",
    "    current_state = obs\n",
    "np.unique(optimal)[0]"
   ]
  },
  {
   "cell_type": "markdown",
   "metadata": {},
   "source": [
    "Steering Wheel"
   ]
  },
  {
   "cell_type": "code",
   "execution_count": 36,
   "metadata": {},
   "outputs": [],
   "source": [
    "scores = []\n",
    "i=6\n",
    "# Looping for each episode\n",
    "for e in range(1000):\n",
    "    # Initializes the state\n",
    "    current_state = reset1()\n",
    "    rewards = []\n",
    "    learning_rate = get_learning_rate(e)\n",
    "    epsilon = 1/(e +1)\n",
    "                    \n",
    "    # Looping for each step\n",
    "    for j in range(running_time//time_interval):\n",
    "        \n",
    "        current_statey = (current_state[i],current_state[i+8])\n",
    "        # Choose A from S\n",
    "        action = choose_action(epsilon,current_statey , i)\n",
    "        # Take action\n",
    "        obs = step(action , list(current_state),i)\n",
    "        reward = rewardfun(action,current_state,i)\n",
    "        rewards.append(reward)\n",
    "        new_state = obs\n",
    "        \n",
    "        new_statey = (new_state[i],new_state[i+8])\n",
    "        # Update Q(S,A)\n",
    "        Q_table[current_statey][action] += (learning_rate * \n",
    "                                        (reward + discount * np.max(Q_table[new_statey])\n",
    "                                         - Q_table[current_statey][action]))\n",
    "                                         \n",
    "                                         \n",
    "        current_state = new_state \n",
    "    \n",
    "    scores.append(sum(rewards))"
   ]
  },
  {
   "cell_type": "code",
   "execution_count": 37,
   "metadata": {},
   "outputs": [
    {
     "data": {
      "text/plain": [
       "715"
      ]
     },
     "execution_count": 37,
     "metadata": {},
     "output_type": "execute_result"
    }
   ],
   "source": [
    "optimal =[]\n",
    "current_state = reset1()\n",
    "i=6\n",
    "\n",
    "for j in range(running_time//time_interval):\n",
    "    # Choose A from S\n",
    "    action = np.argmax(Q_table[(current_state[i],current_state[i+8])])\n",
    "    if action==1:\n",
    "        optimal.append(current_state[i])\n",
    "    # Take action\n",
    "    obs = step(action,list(current_state),i)\n",
    "    reward = rewardfun(action,current_state,i)\n",
    "    current_state = obs\n",
    "np.unique(optimal)[0]"
   ]
  },
  {
   "cell_type": "markdown",
   "metadata": {},
   "source": [
    "Shifting Gears"
   ]
  },
  {
   "cell_type": "code",
   "execution_count": 39,
   "metadata": {},
   "outputs": [],
   "source": [
    "scores = []\n",
    "i=7\n",
    "# Looping for each episode\n",
    "for e in range(1000):\n",
    "    # Initializes the state\n",
    "    current_state = reset1()\n",
    "    rewards = []\n",
    "    learning_rate = get_learning_rate(e)\n",
    "    epsilon = 1/(e +1)\n",
    "                    \n",
    "    # Looping for each step\n",
    "    for j in range(running_time//time_interval):\n",
    "        \n",
    "        current_statey = (current_state[i],current_state[i+8])\n",
    "        # Choose A from S\n",
    "        action = choose_action(epsilon,current_statey , i)\n",
    "        # Take action\n",
    "        obs = step(action , list(current_state),i)\n",
    "        reward = rewardfun(action,current_state,i)\n",
    "        rewards.append(reward)\n",
    "        new_state = obs\n",
    "        \n",
    "        new_statey = (new_state[i],new_state[i+8])\n",
    "        # Update Q(S,A)\n",
    "        Q_table[current_statey][action] += (learning_rate * \n",
    "                                        (reward + discount * np.max(Q_table[new_statey])\n",
    "                                         - Q_table[current_statey][action]))\n",
    "                                         \n",
    "                                         \n",
    "        current_state = new_state \n",
    "    \n",
    "    scores.append(sum(rewards))"
   ]
  },
  {
   "cell_type": "code",
   "execution_count": 40,
   "metadata": {},
   "outputs": [
    {
     "data": {
      "text/plain": [
       "1105"
      ]
     },
     "execution_count": 40,
     "metadata": {},
     "output_type": "execute_result"
    }
   ],
   "source": [
    "optimal =[]\n",
    "current_state = reset1()\n",
    "i=7\n",
    "\n",
    "for j in range(running_time//time_interval):\n",
    "    # Choose A from S\n",
    "    action = np.argmax(Q_table[(current_state[i],current_state[i+8])])\n",
    "    if action==1:\n",
    "        optimal.append(current_state[i])\n",
    "    # Take action\n",
    "    obs = step(action,list(current_state),i)\n",
    "    reward = rewardfun(action,current_state,i)\n",
    "    current_state = obs\n",
    "np.unique(optimal)[0]"
   ]
  },
  {
   "cell_type": "code",
   "execution_count": null,
   "metadata": {},
   "outputs": [],
   "source": []
  }
 ],
 "metadata": {
  "kernelspec": {
   "display_name": "Python 3",
   "language": "python",
   "name": "python3"
  },
  "language_info": {
   "codemirror_mode": {
    "name": "ipython",
    "version": 3
   },
   "file_extension": ".py",
   "mimetype": "text/x-python",
   "name": "python",
   "nbconvert_exporter": "python",
   "pygments_lexer": "ipython3",
   "version": "3.7.3"
  }
 },
 "nbformat": 4,
 "nbformat_minor": 2
}
